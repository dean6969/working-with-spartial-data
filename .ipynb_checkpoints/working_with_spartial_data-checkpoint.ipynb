{
 "cells": [
  {
   "cell_type": "markdown",
   "metadata": {
    "id": "N7R_rMs9y4P3"
   },
   "source": [
    "Student name: Thanh Chung Nguyen\n",
    "\n",
    "Student id: 32134827"
   ]
  },
  {
   "cell_type": "markdown",
   "metadata": {
    "id": "uB4b5MBjqOOC"
   },
   "source": [
    "# Install libary\n",
    "\n"
   ]
  },
  {
   "cell_type": "code",
   "execution_count": null,
   "metadata": {
    "colab": {
     "base_uri": "https://localhost:8080/",
     "height": 2150
    },
    "id": "UQgHD4WKqNiu",
    "outputId": "40a0764e-f349-42b9-c4a8-3745433965cb"
   },
   "outputs": [
    {
     "name": "stdout",
     "output_type": "stream",
     "text": [
      "Looking in indexes: https://pypi.org/simple, https://us-python.pkg.dev/colab-wheels/public/simple/\n",
      "Requirement already satisfied: requests in /usr/local/lib/python3.7/dist-packages (2.23.0)\n",
      "Requirement already satisfied: certifi>=2017.4.17 in /usr/local/lib/python3.7/dist-packages (from requests) (2022.5.18.1)\n",
      "Requirement already satisfied: idna<3,>=2.5 in /usr/local/lib/python3.7/dist-packages (from requests) (2.10)\n",
      "Requirement already satisfied: chardet<4,>=3.0.2 in /usr/local/lib/python3.7/dist-packages (from requests) (3.0.4)\n",
      "Collecting urllib3!=1.25.0,!=1.25.1,<1.26,>=1.21.1\n",
      "  Using cached urllib3-1.25.11-py2.py3-none-any.whl (127 kB)\n",
      "Installing collected packages: urllib3\n",
      "  Attempting uninstall: urllib3\n",
      "    Found existing installation: urllib3 1.26.9\n",
      "    Uninstalling urllib3-1.26.9:\n",
      "      Successfully uninstalled urllib3-1.26.9\n",
      "\u001b[31mERROR: pip's dependency resolver does not currently take into account all the packages that are installed. This behaviour is the source of the following dependency conflicts.\n",
      "selenium 4.2.0 requires urllib3[secure,socks]~=1.26, but you have urllib3 1.25.11 which is incompatible.\n",
      "datascience 0.10.6 requires folium==0.2.1, but you have folium 0.8.3 which is incompatible.\u001b[0m\n",
      "Successfully installed urllib3-1.25.11\n"
     ]
    },
    {
     "data": {
      "application/vnd.colab-display-data+json": {
       "pip_warning": {
        "packages": [
         "urllib3"
        ]
       }
      }
     },
     "metadata": {},
     "output_type": "display_data"
    },
    {
     "name": "stdout",
     "output_type": "stream",
     "text": [
      "Looking in indexes: https://pypi.org/simple, https://us-python.pkg.dev/colab-wheels/public/simple/\n",
      "Requirement already satisfied: html5lib in /usr/local/lib/python3.7/dist-packages (1.0.1)\n",
      "Requirement already satisfied: webencodings in /usr/local/lib/python3.7/dist-packages (from html5lib) (0.5.1)\n",
      "Requirement already satisfied: six>=1.9 in /usr/local/lib/python3.7/dist-packages (from html5lib) (1.15.0)\n",
      "Looking in indexes: https://pypi.org/simple, https://us-python.pkg.dev/colab-wheels/public/simple/\n",
      "Requirement already satisfied: bs4 in /usr/local/lib/python3.7/dist-packages (0.0.1)\n",
      "Requirement already satisfied: beautifulsoup4 in /usr/local/lib/python3.7/dist-packages (from bs4) (4.6.3)\n",
      "Looking in indexes: https://pypi.org/simple, https://us-python.pkg.dev/colab-wheels/public/simple/\n",
      "Requirement already satisfied: pyshp in /usr/local/lib/python3.7/dist-packages (2.3.0)\n",
      "Looking in indexes: https://pypi.org/simple, https://us-python.pkg.dev/colab-wheels/public/simple/\n",
      "Requirement already satisfied: PyPDF2 in /usr/local/lib/python3.7/dist-packages (2.1.0)\n",
      "Requirement already satisfied: typing-extensions in /usr/local/lib/python3.7/dist-packages (from PyPDF2) (4.2.0)\n",
      "Looking in indexes: https://pypi.org/simple, https://us-python.pkg.dev/colab-wheels/public/simple/\n",
      "Requirement already satisfied: selenium in /usr/local/lib/python3.7/dist-packages (4.2.0)\n",
      "Requirement already satisfied: trio~=0.17 in /usr/local/lib/python3.7/dist-packages (from selenium) (0.21.0)\n",
      "Collecting urllib3[secure,socks]~=1.26\n",
      "  Using cached urllib3-1.26.9-py2.py3-none-any.whl (138 kB)\n",
      "Requirement already satisfied: trio-websocket~=0.9 in /usr/local/lib/python3.7/dist-packages (from selenium) (0.9.2)\n",
      "Requirement already satisfied: async-generator>=1.9 in /usr/local/lib/python3.7/dist-packages (from trio~=0.17->selenium) (1.10)\n",
      "Requirement already satisfied: attrs>=19.2.0 in /usr/local/lib/python3.7/dist-packages (from trio~=0.17->selenium) (21.4.0)\n",
      "Requirement already satisfied: sniffio in /usr/local/lib/python3.7/dist-packages (from trio~=0.17->selenium) (1.2.0)\n",
      "Requirement already satisfied: idna in /usr/local/lib/python3.7/dist-packages (from trio~=0.17->selenium) (2.10)\n",
      "Requirement already satisfied: sortedcontainers in /usr/local/lib/python3.7/dist-packages (from trio~=0.17->selenium) (2.4.0)\n",
      "Requirement already satisfied: outcome in /usr/local/lib/python3.7/dist-packages (from trio~=0.17->selenium) (1.1.0)\n",
      "Requirement already satisfied: wsproto>=0.14 in /usr/local/lib/python3.7/dist-packages (from trio-websocket~=0.9->selenium) (1.1.0)\n",
      "Requirement already satisfied: pyOpenSSL>=0.14 in /usr/local/lib/python3.7/dist-packages (from urllib3[secure,socks]~=1.26->selenium) (22.0.0)\n",
      "Requirement already satisfied: certifi in /usr/local/lib/python3.7/dist-packages (from urllib3[secure,socks]~=1.26->selenium) (2022.5.18.1)\n",
      "Requirement already satisfied: cryptography>=1.3.4 in /usr/local/lib/python3.7/dist-packages (from urllib3[secure,socks]~=1.26->selenium) (37.0.2)\n",
      "Requirement already satisfied: PySocks!=1.5.7,<2.0,>=1.5.6 in /usr/local/lib/python3.7/dist-packages (from urllib3[secure,socks]~=1.26->selenium) (1.7.1)\n",
      "Requirement already satisfied: cffi>=1.12 in /usr/local/lib/python3.7/dist-packages (from cryptography>=1.3.4->urllib3[secure,socks]~=1.26->selenium) (1.15.0)\n",
      "Requirement already satisfied: pycparser in /usr/local/lib/python3.7/dist-packages (from cffi>=1.12->cryptography>=1.3.4->urllib3[secure,socks]~=1.26->selenium) (2.21)\n",
      "Requirement already satisfied: h11<1,>=0.9.0 in /usr/local/lib/python3.7/dist-packages (from wsproto>=0.14->trio-websocket~=0.9->selenium) (0.13.0)\n",
      "Requirement already satisfied: typing-extensions in /usr/local/lib/python3.7/dist-packages (from h11<1,>=0.9.0->wsproto>=0.14->trio-websocket~=0.9->selenium) (4.2.0)\n",
      "Installing collected packages: urllib3\n",
      "  Attempting uninstall: urllib3\n",
      "    Found existing installation: urllib3 1.25.11\n",
      "    Uninstalling urllib3-1.25.11:\n",
      "      Successfully uninstalled urllib3-1.25.11\n",
      "\u001b[31mERROR: pip's dependency resolver does not currently take into account all the packages that are installed. This behaviour is the source of the following dependency conflicts.\n",
      "requests 2.23.0 requires urllib3!=1.25.0,!=1.25.1,<1.26,>=1.21.1, but you have urllib3 1.26.9 which is incompatible.\n",
      "datascience 0.10.6 requires folium==0.2.1, but you have folium 0.8.3 which is incompatible.\u001b[0m\n",
      "Successfully installed urllib3-1.26.9\n"
     ]
    },
    {
     "data": {
      "application/vnd.colab-display-data+json": {
       "pip_warning": {
        "packages": [
         "urllib3"
        ]
       }
      }
     },
     "metadata": {},
     "output_type": "display_data"
    },
    {
     "name": "stdout",
     "output_type": "stream",
     "text": [
      "Looking in indexes: https://pypi.org/simple, https://us-python.pkg.dev/colab-wheels/public/simple/\n",
      "Requirement already satisfied: dbfread in /usr/local/lib/python3.7/dist-packages (2.0.7)\n",
      "Reading package lists... Done\n",
      "Building dependency tree       \n",
      "Reading state information... Done\n",
      "chromium-chromedriver is already the newest version (101.0.4951.64-0ubuntu0.18.04.1).\n",
      "The following package was automatically installed and is no longer required:\n",
      "  libnvidia-common-460\n",
      "Use 'apt autoremove' to remove it.\n",
      "0 upgraded, 0 newly installed, 0 to remove and 70 not upgraded.\n",
      "Looking in indexes: https://pypi.org/simple, https://us-python.pkg.dev/colab-wheels/public/simple/\n",
      "Requirement already satisfied: selenium in /usr/local/lib/python3.7/dist-packages (4.2.0)\n",
      "Requirement already satisfied: trio-websocket~=0.9 in /usr/local/lib/python3.7/dist-packages (from selenium) (0.9.2)\n",
      "Requirement already satisfied: urllib3[secure,socks]~=1.26 in /usr/local/lib/python3.7/dist-packages (from selenium) (1.26.9)\n",
      "Requirement already satisfied: trio~=0.17 in /usr/local/lib/python3.7/dist-packages (from selenium) (0.21.0)\n",
      "Requirement already satisfied: sniffio in /usr/local/lib/python3.7/dist-packages (from trio~=0.17->selenium) (1.2.0)\n",
      "Requirement already satisfied: async-generator>=1.9 in /usr/local/lib/python3.7/dist-packages (from trio~=0.17->selenium) (1.10)\n",
      "Requirement already satisfied: attrs>=19.2.0 in /usr/local/lib/python3.7/dist-packages (from trio~=0.17->selenium) (21.4.0)\n",
      "Requirement already satisfied: outcome in /usr/local/lib/python3.7/dist-packages (from trio~=0.17->selenium) (1.1.0)\n",
      "Requirement already satisfied: sortedcontainers in /usr/local/lib/python3.7/dist-packages (from trio~=0.17->selenium) (2.4.0)\n",
      "Requirement already satisfied: idna in /usr/local/lib/python3.7/dist-packages (from trio~=0.17->selenium) (2.10)\n",
      "Requirement already satisfied: wsproto>=0.14 in /usr/local/lib/python3.7/dist-packages (from trio-websocket~=0.9->selenium) (1.1.0)\n",
      "Requirement already satisfied: PySocks!=1.5.7,<2.0,>=1.5.6 in /usr/local/lib/python3.7/dist-packages (from urllib3[secure,socks]~=1.26->selenium) (1.7.1)\n",
      "Requirement already satisfied: cryptography>=1.3.4 in /usr/local/lib/python3.7/dist-packages (from urllib3[secure,socks]~=1.26->selenium) (37.0.2)\n",
      "Requirement already satisfied: pyOpenSSL>=0.14 in /usr/local/lib/python3.7/dist-packages (from urllib3[secure,socks]~=1.26->selenium) (22.0.0)\n",
      "Requirement already satisfied: certifi in /usr/local/lib/python3.7/dist-packages (from urllib3[secure,socks]~=1.26->selenium) (2022.5.18.1)\n",
      "Requirement already satisfied: cffi>=1.12 in /usr/local/lib/python3.7/dist-packages (from cryptography>=1.3.4->urllib3[secure,socks]~=1.26->selenium) (1.15.0)\n",
      "Requirement already satisfied: pycparser in /usr/local/lib/python3.7/dist-packages (from cffi>=1.12->cryptography>=1.3.4->urllib3[secure,socks]~=1.26->selenium) (2.21)\n",
      "Requirement already satisfied: h11<1,>=0.9.0 in /usr/local/lib/python3.7/dist-packages (from wsproto>=0.14->trio-websocket~=0.9->selenium) (0.13.0)\n",
      "Requirement already satisfied: typing-extensions in /usr/local/lib/python3.7/dist-packages (from h11<1,>=0.9.0->wsproto>=0.14->trio-websocket~=0.9->selenium) (4.2.0)\n",
      "Hit:1 http://archive.ubuntu.com/ubuntu bionic InRelease\n",
      "Get:2 http://archive.ubuntu.com/ubuntu bionic-updates InRelease [88.7 kB]\n",
      "Hit:3 https://cloud.r-project.org/bin/linux/ubuntu bionic-cran40/ InRelease\n",
      "Hit:4 https://developer.download.nvidia.com/compute/cuda/repos/ubuntu1804/x86_64  InRelease\n",
      "Get:5 http://archive.ubuntu.com/ubuntu bionic-backports InRelease [74.6 kB]\n",
      "Get:6 http://security.ubuntu.com/ubuntu bionic-security InRelease [88.7 kB]\n",
      "Hit:7 http://ppa.launchpad.net/c2d4u.team/c2d4u4.0+/ubuntu bionic InRelease\n",
      "Ign:8 https://developer.download.nvidia.com/compute/machine-learning/repos/ubuntu1804/x86_64  InRelease\n",
      "Hit:9 https://developer.download.nvidia.com/compute/machine-learning/repos/ubuntu1804/x86_64  Release\n",
      "Hit:10 http://ppa.launchpad.net/cran/libgit2/ubuntu bionic InRelease\n",
      "Hit:11 http://ppa.launchpad.net/deadsnakes/ppa/ubuntu bionic InRelease\n",
      "Hit:12 http://ppa.launchpad.net/graphics-drivers/ppa/ubuntu bionic InRelease\n",
      "Get:13 http://archive.ubuntu.com/ubuntu bionic-updates/universe amd64 Packages [2,289 kB]\n",
      "Get:14 http://archive.ubuntu.com/ubuntu bionic-updates/main amd64 Packages [3,258 kB]\n",
      "Fetched 5,799 kB in 3s (2,022 kB/s)\n",
      "Reading package lists... Done\n",
      "Reading package lists... Done\n",
      "Building dependency tree       \n",
      "Reading state information... Done\n",
      "chromium-chromedriver is already the newest version (101.0.4951.64-0ubuntu0.18.04.1).\n",
      "The following package was automatically installed and is no longer required:\n",
      "  libnvidia-common-460\n",
      "Use 'apt autoremove' to remove it.\n",
      "0 upgraded, 0 newly installed, 0 to remove and 70 not upgraded.\n",
      "cp: '/usr/lib/chromium-browser/chromedriver' and '/usr/bin/chromedriver' are the same file\n"
     ]
    }
   ],
   "source": [
    "!pip install requests\n",
    "!pip install html5lib\n",
    "!pip install bs4\n",
    "!pip install pyshp\n",
    "!pip install PyPDF2\n",
    "!pip install selenium\n",
    "!pip install dbfread\n",
    "!apt install chromium-chromedriver\n",
    "!pip install selenium\n",
    "!apt-get update # to update ubuntu to correctly run apt install\n",
    "!apt install chromium-chromedriver\n",
    "!cp /usr/lib/chromium-browser/chromedriver /usr/bin\n",
    "\n"
   ]
  },
  {
   "cell_type": "markdown",
   "metadata": {
    "id": "IaonAyZNqT5z"
   },
   "source": [
    "# Import libary"
   ]
  },
  {
   "cell_type": "code",
   "execution_count": null,
   "metadata": {
    "id": "Ew7e1K6y8rop"
   },
   "outputs": [],
   "source": [
    "from dbfread import DBF\n",
    "import PyPDF2\n",
    "import pandas as pd\n",
    "import re\n",
    "import shapefile\n",
    "from tqdm import tqdm\n",
    "from shapely.geometry import Point\n",
    "from shapely.geometry.polygon import Polygon\n",
    "import json\n",
    "from statistics import mean\n",
    "import time\n",
    "from sklearn import preprocessing\n",
    "import warnings\n",
    "warnings.filterwarnings(\"ignore\")\n",
    "import sys\n",
    "sys.path.insert(0,'/usr/lib/chromium-browser/chromedriver')\n",
    "from selenium import webdriver\n",
    "chrome_options = webdriver.ChromeOptions()\n",
    "chrome_options.add_argument('--headless')\n",
    "chrome_options.add_argument('--no-sandbox')\n",
    "chrome_options.add_argument('--disable-dev-shm-usage')\n",
    "import matplotlib.pyplot as plt\n",
    "%matplotlib inline"
   ]
  },
  {
   "cell_type": "markdown",
   "metadata": {
    "id": "BYyssb00Jm0W"
   },
   "source": [
    "# Task A: Data Integration"
   ]
  },
  {
   "cell_type": "markdown",
   "metadata": {
    "id": "7Gjuk7WwqYWT"
   },
   "source": [
    "## 1. Read File"
   ]
  },
  {
   "cell_type": "code",
   "execution_count": null,
   "metadata": {
    "id": "gV1QJIlwLfsH"
   },
   "outputs": [],
   "source": [
    "# read xml\n",
    "with open(\"/content/drive/Shareddrives/FIT5196-s1-2022/A3/student_data/32134827_realstate.xml\") as f:\n",
    "    xml = f.read()\n",
    "\n",
    "# read pdf\n",
    "reader = PyPDF2.PdfFileReader(\"/content/drive/Shareddrives/FIT5196-s1-2022/A3/student_data/32134827_realstate.pdf\")\n",
    "\n"
   ]
  },
  {
   "cell_type": "markdown",
   "metadata": {
    "id": "N_pAJKN0qh21"
   },
   "source": [
    "## 2. Extract data from XML\n",
    "\n",
    "I choose regex all word by flag `<>`"
   ]
  },
  {
   "cell_type": "code",
   "execution_count": null,
   "metadata": {
    "id": "UycR9agTPbV3"
   },
   "outputs": [],
   "source": [
    "property_id = re.findall(r\"<property_id>(.*)</property_id>\", xml)\n",
    "lat = re.findall(r\"<lat>(.*)</lat>\",xml)\n",
    "lng = re.findall(r\"<lng>(.*)</lng>\", xml)\n",
    "address = re.findall(r\"<addr_street>(.*)</addr_street>\", xml)"
   ]
  },
  {
   "cell_type": "markdown",
   "metadata": {
    "id": "EtKa0iBKqrhb"
   },
   "source": [
    "## 3. Extract data from PDF"
   ]
  },
  {
   "cell_type": "code",
   "execution_count": null,
   "metadata": {
    "id": "ozy4EG-YTejj"
   },
   "outputs": [],
   "source": [
    "page = reader.pages[0]\n",
    "text = page.extractText()\n",
    "name = re.findall(r\"(\\d+)\\s+(-\\d+.?\\d+)\\s+(\\d+.?\\d+)\\s+(.*)\", text)"
   ]
  },
  {
   "cell_type": "markdown",
   "metadata": {
    "id": "tVBos77PqzaP"
   },
   "source": [
    "## 4. Combine XML and PDF"
   ]
  },
  {
   "cell_type": "code",
   "execution_count": null,
   "metadata": {
    "id": "cyKnEq0FRaFj"
   },
   "outputs": [],
   "source": [
    "for i in name:\n",
    "  property_id.append(i[0])\n",
    "  lat.append(i[1])\n",
    "  lng.append(i[2])\n",
    "  address.append(i[3])"
   ]
  },
  {
   "cell_type": "markdown",
   "metadata": {
    "id": "s61YX5vasFsz"
   },
   "source": [
    "## 5. Create data frame"
   ]
  },
  {
   "cell_type": "code",
   "execution_count": null,
   "metadata": {
    "id": "3y_2UMr6yrIO"
   },
   "outputs": [],
   "source": [
    "# dictionary store include property_id, lat, lng, addr_street value\n",
    "data_dict = {'property_id':property_id, 'lat':lat, 'lng':lng, 'addr_street':address}\n",
    "\n",
    "# create data frame\n",
    "df = pd.DataFrame(data_dict)"
   ]
  },
  {
   "cell_type": "markdown",
   "metadata": {
    "id": "8K29W5pSsJdz"
   },
   "source": [
    "## 6. Create column with default value"
   ]
  },
  {
   "cell_type": "code",
   "execution_count": null,
   "metadata": {
    "id": "uqAvjtJj1vrP"
   },
   "outputs": [],
   "source": [
    "# create default value for each column\n",
    "df['suburb'] = \"not available\"\n",
    "df['closest_train_station_id'] = 0\n",
    "df['distance_to_closest_train_station'] = 0\n",
    "df['travel_min_to_MC'] = -1\n",
    "df['direct_journey_flag'] = -1\n",
    "df['House_report'] = \"not extracted\"\n",
    "df['Median_house_price'] = \"not extracted\"\n",
    "df['House_quarterly_growth'] = \"not extracted\"\n",
    "df['House_twelve_month_growth'] = \"not extracted\"\n",
    "df['House_average_annual_growth'] = \"not extracted\""
   ]
  },
  {
   "cell_type": "markdown",
   "metadata": {
    "id": "viUqK8-9sIvB"
   },
   "source": [
    "## 7. Remove duplicate Property_id"
   ]
  },
  {
   "cell_type": "code",
   "execution_count": null,
   "metadata": {
    "id": "9MYN4pi6vHPl"
   },
   "outputs": [],
   "source": [
    "df = df.drop_duplicates(subset=['property_id'], keep='first').reset_index()"
   ]
  },
  {
   "cell_type": "markdown",
   "metadata": {
    "id": "bcPDj4WAJiDG"
   },
   "source": [
    "## 8. Suburb"
   ]
  },
  {
   "cell_type": "code",
   "execution_count": null,
   "metadata": {
    "id": "5ofod2aZvIe3"
   },
   "outputs": [],
   "source": [
    "def parse_shape(data):\n",
    "  # read shape file\n",
    "  sf = shapefile.Reader(data)\n",
    "  # get features\n",
    "  feature = sf.shapeRecords()\n",
    "  # convert feature to GeoJson type\n",
    "  parse = feature.__geo_interface__\n",
    "\n",
    "  return parse"
   ]
  },
  {
   "cell_type": "code",
   "execution_count": null,
   "metadata": {
    "id": "alYeaQx16vTF"
   },
   "outputs": [],
   "source": [
    "# coordinates and suburb\n",
    "coordinates = [] # This value will store all coordinates\n",
    "suburb = [] # This value will store name of suburb\n",
    "\n",
    "# concat file together\n",
    "path_file = [\"/content/drive/Shareddrives/FIT5196-s1-2022/A3/vic_suburb_bounadry/VIC_LOCALITY_POLYGON_shp.dbf\",\n",
    "        \"/content/drive/Shareddrives/FIT5196-s1-2022/A3/vic_suburb_bounadry/VIC_LOCALITY_POLYGON_shp.prj\",\n",
    "        \"/content/drive/Shareddrives/FIT5196-s1-2022/A3/vic_suburb_bounadry/VIC_LOCALITY_POLYGON_shp.shp\",\n",
    "        \"/content/drive/Shareddrives/FIT5196-s1-2022/A3/vic_suburb_bounadry/VIC_LOCALITY_POLYGON_shp.shx\"]\n",
    "# loop every path file\n",
    "for file in path_file:\n",
    "  # parse each file\n",
    "  data = parse_shape(file)\n",
    "  # loop every features inside GeoJson template\n",
    "  for index in range(len(data['features'])):\n",
    "    # append coordinates to coordinates list\n",
    "    coordinates.append(data['features'][index]['geometry']['coordinates'][0])\n",
    "    # append suburb name to suburb list\n",
    "    suburb.append(data['features'][index]['properties']['VIC_LOCA_2'])"
   ]
  },
  {
   "cell_type": "code",
   "execution_count": null,
   "metadata": {
    "id": "B6yJBV7WFR_S"
   },
   "outputs": [],
   "source": [
    "# create dictionary\n",
    "data_suburb = dict(zip(suburb, coordinates))"
   ]
  },
  {
   "cell_type": "code",
   "execution_count": null,
   "metadata": {
    "id": "SuRJMg7zLy7E"
   },
   "outputs": [],
   "source": [
    "# convert longitude and latitude from string to index\n",
    "df.lng = pd.to_numeric(df.lng)\n",
    "df.lat = pd.to_numeric(df.lat)"
   ]
  },
  {
   "cell_type": "code",
   "execution_count": null,
   "metadata": {
    "id": "Djz3-QywONtm"
   },
   "outputs": [],
   "source": [
    "# create couple of longitude and latitude\n",
    "lng_lat = []\n",
    "for index in range(len(df.lng)):\n",
    "  lng_lat.append([df.lng[index], df.lat[index]])"
   ]
  },
  {
   "cell_type": "code",
   "execution_count": null,
   "metadata": {
    "id": "uKddzW1QeJ8P"
   },
   "outputs": [],
   "source": [
    "# create polygon from suburb data\n",
    "for key in data_suburb:\n",
    "  data_suburb[key] = Polygon(data_suburb[key])"
   ]
  },
  {
   "cell_type": "code",
   "execution_count": null,
   "metadata": {
    "colab": {
     "base_uri": "https://localhost:8080/"
    },
    "id": "Q5y-fAtsONrC",
    "outputId": "6dc24767-4038-4c3c-9b22-89c1ab430809"
   },
   "outputs": [
    {
     "name": "stderr",
     "output_type": "stream",
     "text": [
      "100%|██████████| 2110/2110 [02:36<00:00, 13.51it/s]\n"
     ]
    }
   ],
   "source": [
    "# create suburb\n",
    "# loop every index of df data\n",
    "for index in tqdm(range(len(df.lng))):\n",
    "  # loop every key value in suburb file\n",
    "  for key in data_suburb:\n",
    "    # check couple lon and lat in a polygon or not\n",
    "    if data_suburb[key].contains(Point(df.lng[index],df.lat[index])) == True:\n",
    "      df.suburb[index] = key\n",
    "      break\n",
    "\n",
    "\n"
   ]
  },
  {
   "cell_type": "markdown",
   "metadata": {
    "id": "iJsv-bK5LdSw"
   },
   "source": [
    "We check the dataframe"
   ]
  },
  {
   "cell_type": "code",
   "execution_count": null,
   "metadata": {
    "colab": {
     "base_uri": "https://localhost:8080/",
     "height": 357
    },
    "id": "TVoRblsURrFY",
    "outputId": "07972fc6-d34d-4f2c-cc0c-1616c5850b5f"
   },
   "outputs": [
    {
     "data": {
      "text/html": [
       "\n",
       "  <div id=\"df-60bf7bab-97a6-415f-ae93-ff3e620da04c\">\n",
       "    <div class=\"colab-df-container\">\n",
       "      <div>\n",
       "<style scoped>\n",
       "    .dataframe tbody tr th:only-of-type {\n",
       "        vertical-align: middle;\n",
       "    }\n",
       "\n",
       "    .dataframe tbody tr th {\n",
       "        vertical-align: top;\n",
       "    }\n",
       "\n",
       "    .dataframe thead th {\n",
       "        text-align: right;\n",
       "    }\n",
       "</style>\n",
       "<table border=\"1\" class=\"dataframe\">\n",
       "  <thead>\n",
       "    <tr style=\"text-align: right;\">\n",
       "      <th></th>\n",
       "      <th>index</th>\n",
       "      <th>property_id</th>\n",
       "      <th>lat</th>\n",
       "      <th>lng</th>\n",
       "      <th>addr_street</th>\n",
       "      <th>suburb</th>\n",
       "      <th>closest_train_station_id</th>\n",
       "      <th>distance_to_closest_train_station</th>\n",
       "      <th>travel_min_to_MC</th>\n",
       "      <th>direct_journey_flag</th>\n",
       "      <th>House_report</th>\n",
       "      <th>Median_house_price</th>\n",
       "      <th>House_quarterly_growth</th>\n",
       "      <th>House_twelve_month_growth</th>\n",
       "      <th>House_average_annual_growth</th>\n",
       "    </tr>\n",
       "  </thead>\n",
       "  <tbody>\n",
       "    <tr>\n",
       "      <th>0</th>\n",
       "      <td>0</td>\n",
       "      <td>28189</td>\n",
       "      <td>-37.802258</td>\n",
       "      <td>144.982269</td>\n",
       "      <td>221 Gore Street</td>\n",
       "      <td>FITZROY</td>\n",
       "      <td>0</td>\n",
       "      <td>0</td>\n",
       "      <td>-1</td>\n",
       "      <td>-1</td>\n",
       "      <td>not extracted</td>\n",
       "      <td>not extracted</td>\n",
       "      <td>not extracted</td>\n",
       "      <td>not extracted</td>\n",
       "      <td>not extracted</td>\n",
       "    </tr>\n",
       "    <tr>\n",
       "      <th>1</th>\n",
       "      <td>1</td>\n",
       "      <td>28067</td>\n",
       "      <td>-37.800744</td>\n",
       "      <td>144.975188</td>\n",
       "      <td>12 Garfield Street</td>\n",
       "      <td>FITZROY</td>\n",
       "      <td>0</td>\n",
       "      <td>0</td>\n",
       "      <td>-1</td>\n",
       "      <td>-1</td>\n",
       "      <td>not extracted</td>\n",
       "      <td>not extracted</td>\n",
       "      <td>not extracted</td>\n",
       "      <td>not extracted</td>\n",
       "      <td>not extracted</td>\n",
       "    </tr>\n",
       "    <tr>\n",
       "      <th>2</th>\n",
       "      <td>2</td>\n",
       "      <td>93188</td>\n",
       "      <td>-37.990316</td>\n",
       "      <td>145.071074</td>\n",
       "      <td>3/8 Dickens Street</td>\n",
       "      <td>PARKDALE</td>\n",
       "      <td>0</td>\n",
       "      <td>0</td>\n",
       "      <td>-1</td>\n",
       "      <td>-1</td>\n",
       "      <td>not extracted</td>\n",
       "      <td>not extracted</td>\n",
       "      <td>not extracted</td>\n",
       "      <td>not extracted</td>\n",
       "      <td>not extracted</td>\n",
       "    </tr>\n",
       "    <tr>\n",
       "      <th>3</th>\n",
       "      <td>3</td>\n",
       "      <td>60556</td>\n",
       "      <td>-37.833550</td>\n",
       "      <td>145.202305</td>\n",
       "      <td>2 Erilyn Court</td>\n",
       "      <td>VERMONT</td>\n",
       "      <td>0</td>\n",
       "      <td>0</td>\n",
       "      <td>-1</td>\n",
       "      <td>-1</td>\n",
       "      <td>not extracted</td>\n",
       "      <td>not extracted</td>\n",
       "      <td>not extracted</td>\n",
       "      <td>not extracted</td>\n",
       "      <td>not extracted</td>\n",
       "    </tr>\n",
       "    <tr>\n",
       "      <th>4</th>\n",
       "      <td>4</td>\n",
       "      <td>54863</td>\n",
       "      <td>-37.846793</td>\n",
       "      <td>145.070230</td>\n",
       "      <td>10 Halley Avenue</td>\n",
       "      <td>CAMBERWELL</td>\n",
       "      <td>0</td>\n",
       "      <td>0</td>\n",
       "      <td>-1</td>\n",
       "      <td>-1</td>\n",
       "      <td>not extracted</td>\n",
       "      <td>not extracted</td>\n",
       "      <td>not extracted</td>\n",
       "      <td>not extracted</td>\n",
       "      <td>not extracted</td>\n",
       "    </tr>\n",
       "  </tbody>\n",
       "</table>\n",
       "</div>\n",
       "      <button class=\"colab-df-convert\" onclick=\"convertToInteractive('df-60bf7bab-97a6-415f-ae93-ff3e620da04c')\"\n",
       "              title=\"Convert this dataframe to an interactive table.\"\n",
       "              style=\"display:none;\">\n",
       "        \n",
       "  <svg xmlns=\"http://www.w3.org/2000/svg\" height=\"24px\"viewBox=\"0 0 24 24\"\n",
       "       width=\"24px\">\n",
       "    <path d=\"M0 0h24v24H0V0z\" fill=\"none\"/>\n",
       "    <path d=\"M18.56 5.44l.94 2.06.94-2.06 2.06-.94-2.06-.94-.94-2.06-.94 2.06-2.06.94zm-11 1L8.5 8.5l.94-2.06 2.06-.94-2.06-.94L8.5 2.5l-.94 2.06-2.06.94zm10 10l.94 2.06.94-2.06 2.06-.94-2.06-.94-.94-2.06-.94 2.06-2.06.94z\"/><path d=\"M17.41 7.96l-1.37-1.37c-.4-.4-.92-.59-1.43-.59-.52 0-1.04.2-1.43.59L10.3 9.45l-7.72 7.72c-.78.78-.78 2.05 0 2.83L4 21.41c.39.39.9.59 1.41.59.51 0 1.02-.2 1.41-.59l7.78-7.78 2.81-2.81c.8-.78.8-2.07 0-2.86zM5.41 20L4 18.59l7.72-7.72 1.47 1.35L5.41 20z\"/>\n",
       "  </svg>\n",
       "      </button>\n",
       "      \n",
       "  <style>\n",
       "    .colab-df-container {\n",
       "      display:flex;\n",
       "      flex-wrap:wrap;\n",
       "      gap: 12px;\n",
       "    }\n",
       "\n",
       "    .colab-df-convert {\n",
       "      background-color: #E8F0FE;\n",
       "      border: none;\n",
       "      border-radius: 50%;\n",
       "      cursor: pointer;\n",
       "      display: none;\n",
       "      fill: #1967D2;\n",
       "      height: 32px;\n",
       "      padding: 0 0 0 0;\n",
       "      width: 32px;\n",
       "    }\n",
       "\n",
       "    .colab-df-convert:hover {\n",
       "      background-color: #E2EBFA;\n",
       "      box-shadow: 0px 1px 2px rgba(60, 64, 67, 0.3), 0px 1px 3px 1px rgba(60, 64, 67, 0.15);\n",
       "      fill: #174EA6;\n",
       "    }\n",
       "\n",
       "    [theme=dark] .colab-df-convert {\n",
       "      background-color: #3B4455;\n",
       "      fill: #D2E3FC;\n",
       "    }\n",
       "\n",
       "    [theme=dark] .colab-df-convert:hover {\n",
       "      background-color: #434B5C;\n",
       "      box-shadow: 0px 1px 3px 1px rgba(0, 0, 0, 0.15);\n",
       "      filter: drop-shadow(0px 1px 2px rgba(0, 0, 0, 0.3));\n",
       "      fill: #FFFFFF;\n",
       "    }\n",
       "  </style>\n",
       "\n",
       "      <script>\n",
       "        const buttonEl =\n",
       "          document.querySelector('#df-60bf7bab-97a6-415f-ae93-ff3e620da04c button.colab-df-convert');\n",
       "        buttonEl.style.display =\n",
       "          google.colab.kernel.accessAllowed ? 'block' : 'none';\n",
       "\n",
       "        async function convertToInteractive(key) {\n",
       "          const element = document.querySelector('#df-60bf7bab-97a6-415f-ae93-ff3e620da04c');\n",
       "          const dataTable =\n",
       "            await google.colab.kernel.invokeFunction('convertToInteractive',\n",
       "                                                     [key], {});\n",
       "          if (!dataTable) return;\n",
       "\n",
       "          const docLinkHtml = 'Like what you see? Visit the ' +\n",
       "            '<a target=\"_blank\" href=https://colab.research.google.com/notebooks/data_table.ipynb>data table notebook</a>'\n",
       "            + ' to learn more about interactive tables.';\n",
       "          element.innerHTML = '';\n",
       "          dataTable['output_type'] = 'display_data';\n",
       "          await google.colab.output.renderOutput(dataTable, element);\n",
       "          const docLink = document.createElement('div');\n",
       "          docLink.innerHTML = docLinkHtml;\n",
       "          element.appendChild(docLink);\n",
       "        }\n",
       "      </script>\n",
       "    </div>\n",
       "  </div>\n",
       "  "
      ],
      "text/plain": [
       "   index property_id        lat         lng         addr_street      suburb  \\\n",
       "0      0       28189 -37.802258  144.982269     221 Gore Street     FITZROY   \n",
       "1      1       28067 -37.800744  144.975188  12 Garfield Street     FITZROY   \n",
       "2      2       93188 -37.990316  145.071074  3/8 Dickens Street    PARKDALE   \n",
       "3      3       60556 -37.833550  145.202305      2 Erilyn Court     VERMONT   \n",
       "4      4       54863 -37.846793  145.070230    10 Halley Avenue  CAMBERWELL   \n",
       "\n",
       "   closest_train_station_id  distance_to_closest_train_station  \\\n",
       "0                         0                                  0   \n",
       "1                         0                                  0   \n",
       "2                         0                                  0   \n",
       "3                         0                                  0   \n",
       "4                         0                                  0   \n",
       "\n",
       "   travel_min_to_MC  direct_journey_flag   House_report Median_house_price  \\\n",
       "0                -1                   -1  not extracted      not extracted   \n",
       "1                -1                   -1  not extracted      not extracted   \n",
       "2                -1                   -1  not extracted      not extracted   \n",
       "3                -1                   -1  not extracted      not extracted   \n",
       "4                -1                   -1  not extracted      not extracted   \n",
       "\n",
       "  House_quarterly_growth House_twelve_month_growth House_average_annual_growth  \n",
       "0          not extracted             not extracted               not extracted  \n",
       "1          not extracted             not extracted               not extracted  \n",
       "2          not extracted             not extracted               not extracted  \n",
       "3          not extracted             not extracted               not extracted  \n",
       "4          not extracted             not extracted               not extracted  "
      ]
     },
     "execution_count": 256,
     "metadata": {},
     "output_type": "execute_result"
    }
   ],
   "source": [
    "df.head()"
   ]
  },
  {
   "cell_type": "markdown",
   "metadata": {
    "id": "i0VWdburyF39"
   },
   "source": [
    "## 9. Distance to closet train"
   ]
  },
  {
   "cell_type": "markdown",
   "metadata": {
    "id": "AmwW6TL_LZrB"
   },
   "source": [
    "We apply haversine formula in this below"
   ]
  },
  {
   "cell_type": "code",
   "execution_count": null,
   "metadata": {
    "id": "9tbI83Apzcle"
   },
   "outputs": [],
   "source": [
    "from math import radians, cos, sin, asin, sqrt\n",
    "def distance(lat1, lat2, lon1, lon2):\n",
    "\n",
    "    # convert the degree to randian\n",
    "    lon1 = radians(lon1)\n",
    "    lon2 = radians(lon2)\n",
    "    lat1 = radians(lat1)\n",
    "    lat2 = radians(lat2)\n",
    "\n",
    "    # Haversine formula\n",
    "    dlon = lon2 - lon1\n",
    "    dlat = lat2 - lat1\n",
    "    h = sin(dlat / 2)**2 + cos(lat1) * cos(lat2) * sin(dlon / 2)**2\n",
    "\n",
    "    # Radius of earth in kilometers\n",
    "    r = 6378\n",
    "\n",
    "    # calculate the distance\n",
    "    return(2 * r * asin(sqrt(h)))"
   ]
  },
  {
   "cell_type": "code",
   "execution_count": null,
   "metadata": {
    "id": "0iAe3_LUyJD5"
   },
   "outputs": [],
   "source": [
    "# read file stop for train\n",
    "file_train = pd.read_csv(\"/content/drive/Shareddrives/FIT5196-s1-2022/A3/Vic_GTFS_data/metropolitan/stops.txt\", sep = ',')"
   ]
  },
  {
   "cell_type": "code",
   "execution_count": null,
   "metadata": {
    "colab": {
     "base_uri": "https://localhost:8080/",
     "height": 641
    },
    "id": "Ud1knNOvysli",
    "outputId": "fdb9727b-fcec-4afa-be4e-543ac027b6b6"
   },
   "outputs": [
    {
     "data": {
      "text/html": [
       "\n",
       "  <div id=\"df-057d613a-e02c-4e9e-b466-627cf17a3698\">\n",
       "    <div class=\"colab-df-container\">\n",
       "      <div>\n",
       "<style scoped>\n",
       "    .dataframe tbody tr th:only-of-type {\n",
       "        vertical-align: middle;\n",
       "    }\n",
       "\n",
       "    .dataframe tbody tr th {\n",
       "        vertical-align: top;\n",
       "    }\n",
       "\n",
       "    .dataframe thead th {\n",
       "        text-align: right;\n",
       "    }\n",
       "</style>\n",
       "<table border=\"1\" class=\"dataframe\">\n",
       "  <thead>\n",
       "    <tr style=\"text-align: right;\">\n",
       "      <th></th>\n",
       "      <th>stop_id</th>\n",
       "      <th>stop_name</th>\n",
       "      <th>stop_short_name</th>\n",
       "      <th>stop_lat</th>\n",
       "      <th>stop_lon</th>\n",
       "    </tr>\n",
       "  </thead>\n",
       "  <tbody>\n",
       "    <tr>\n",
       "      <th>0</th>\n",
       "      <td>15351</td>\n",
       "      <td>Sunbury Railway Station</td>\n",
       "      <td>Sunbury</td>\n",
       "      <td>-37.579091</td>\n",
       "      <td>144.727319</td>\n",
       "    </tr>\n",
       "    <tr>\n",
       "      <th>1</th>\n",
       "      <td>15353</td>\n",
       "      <td>Diggers Rest Railway Station</td>\n",
       "      <td>Diggers Rest</td>\n",
       "      <td>-37.627017</td>\n",
       "      <td>144.719922</td>\n",
       "    </tr>\n",
       "    <tr>\n",
       "      <th>2</th>\n",
       "      <td>19827</td>\n",
       "      <td>Stony Point Railway Station</td>\n",
       "      <td>Crib Point</td>\n",
       "      <td>-38.374235</td>\n",
       "      <td>145.221837</td>\n",
       "    </tr>\n",
       "    <tr>\n",
       "      <th>3</th>\n",
       "      <td>19828</td>\n",
       "      <td>Crib Point Railway Station</td>\n",
       "      <td>Crib Point</td>\n",
       "      <td>-38.366123</td>\n",
       "      <td>145.204043</td>\n",
       "    </tr>\n",
       "    <tr>\n",
       "      <th>4</th>\n",
       "      <td>19829</td>\n",
       "      <td>Morradoo Railway Station</td>\n",
       "      <td>Crib Point</td>\n",
       "      <td>-38.354033</td>\n",
       "      <td>145.189602</td>\n",
       "    </tr>\n",
       "    <tr>\n",
       "      <th>...</th>\n",
       "      <td>...</td>\n",
       "      <td>...</td>\n",
       "      <td>...</td>\n",
       "      <td>...</td>\n",
       "      <td>...</td>\n",
       "    </tr>\n",
       "    <tr>\n",
       "      <th>213</th>\n",
       "      <td>44817</td>\n",
       "      <td>Coolaroo Railway Station</td>\n",
       "      <td>Coolaroo</td>\n",
       "      <td>-37.661003</td>\n",
       "      <td>144.926056</td>\n",
       "    </tr>\n",
       "    <tr>\n",
       "      <th>214</th>\n",
       "      <td>45793</td>\n",
       "      <td>Lynbrook Railway Station</td>\n",
       "      <td>Lynbrook</td>\n",
       "      <td>-38.057341</td>\n",
       "      <td>145.249275</td>\n",
       "    </tr>\n",
       "    <tr>\n",
       "      <th>215</th>\n",
       "      <td>45794</td>\n",
       "      <td>Cardinia Road Railway Station</td>\n",
       "      <td>Pakenham</td>\n",
       "      <td>-38.071290</td>\n",
       "      <td>145.437791</td>\n",
       "    </tr>\n",
       "    <tr>\n",
       "      <th>216</th>\n",
       "      <td>45795</td>\n",
       "      <td>South Morang Railway Station</td>\n",
       "      <td>South Morang</td>\n",
       "      <td>-37.649159</td>\n",
       "      <td>145.067032</td>\n",
       "    </tr>\n",
       "    <tr>\n",
       "      <th>217</th>\n",
       "      <td>46468</td>\n",
       "      <td>Williams Landing Railway Station</td>\n",
       "      <td>Williams Landing</td>\n",
       "      <td>-37.869865</td>\n",
       "      <td>144.747445</td>\n",
       "    </tr>\n",
       "  </tbody>\n",
       "</table>\n",
       "<p>218 rows × 5 columns</p>\n",
       "</div>\n",
       "      <button class=\"colab-df-convert\" onclick=\"convertToInteractive('df-057d613a-e02c-4e9e-b466-627cf17a3698')\"\n",
       "              title=\"Convert this dataframe to an interactive table.\"\n",
       "              style=\"display:none;\">\n",
       "        \n",
       "  <svg xmlns=\"http://www.w3.org/2000/svg\" height=\"24px\"viewBox=\"0 0 24 24\"\n",
       "       width=\"24px\">\n",
       "    <path d=\"M0 0h24v24H0V0z\" fill=\"none\"/>\n",
       "    <path d=\"M18.56 5.44l.94 2.06.94-2.06 2.06-.94-2.06-.94-.94-2.06-.94 2.06-2.06.94zm-11 1L8.5 8.5l.94-2.06 2.06-.94-2.06-.94L8.5 2.5l-.94 2.06-2.06.94zm10 10l.94 2.06.94-2.06 2.06-.94-2.06-.94-.94-2.06-.94 2.06-2.06.94z\"/><path d=\"M17.41 7.96l-1.37-1.37c-.4-.4-.92-.59-1.43-.59-.52 0-1.04.2-1.43.59L10.3 9.45l-7.72 7.72c-.78.78-.78 2.05 0 2.83L4 21.41c.39.39.9.59 1.41.59.51 0 1.02-.2 1.41-.59l7.78-7.78 2.81-2.81c.8-.78.8-2.07 0-2.86zM5.41 20L4 18.59l7.72-7.72 1.47 1.35L5.41 20z\"/>\n",
       "  </svg>\n",
       "      </button>\n",
       "      \n",
       "  <style>\n",
       "    .colab-df-container {\n",
       "      display:flex;\n",
       "      flex-wrap:wrap;\n",
       "      gap: 12px;\n",
       "    }\n",
       "\n",
       "    .colab-df-convert {\n",
       "      background-color: #E8F0FE;\n",
       "      border: none;\n",
       "      border-radius: 50%;\n",
       "      cursor: pointer;\n",
       "      display: none;\n",
       "      fill: #1967D2;\n",
       "      height: 32px;\n",
       "      padding: 0 0 0 0;\n",
       "      width: 32px;\n",
       "    }\n",
       "\n",
       "    .colab-df-convert:hover {\n",
       "      background-color: #E2EBFA;\n",
       "      box-shadow: 0px 1px 2px rgba(60, 64, 67, 0.3), 0px 1px 3px 1px rgba(60, 64, 67, 0.15);\n",
       "      fill: #174EA6;\n",
       "    }\n",
       "\n",
       "    [theme=dark] .colab-df-convert {\n",
       "      background-color: #3B4455;\n",
       "      fill: #D2E3FC;\n",
       "    }\n",
       "\n",
       "    [theme=dark] .colab-df-convert:hover {\n",
       "      background-color: #434B5C;\n",
       "      box-shadow: 0px 1px 3px 1px rgba(0, 0, 0, 0.15);\n",
       "      filter: drop-shadow(0px 1px 2px rgba(0, 0, 0, 0.3));\n",
       "      fill: #FFFFFF;\n",
       "    }\n",
       "  </style>\n",
       "\n",
       "      <script>\n",
       "        const buttonEl =\n",
       "          document.querySelector('#df-057d613a-e02c-4e9e-b466-627cf17a3698 button.colab-df-convert');\n",
       "        buttonEl.style.display =\n",
       "          google.colab.kernel.accessAllowed ? 'block' : 'none';\n",
       "\n",
       "        async function convertToInteractive(key) {\n",
       "          const element = document.querySelector('#df-057d613a-e02c-4e9e-b466-627cf17a3698');\n",
       "          const dataTable =\n",
       "            await google.colab.kernel.invokeFunction('convertToInteractive',\n",
       "                                                     [key], {});\n",
       "          if (!dataTable) return;\n",
       "\n",
       "          const docLinkHtml = 'Like what you see? Visit the ' +\n",
       "            '<a target=\"_blank\" href=https://colab.research.google.com/notebooks/data_table.ipynb>data table notebook</a>'\n",
       "            + ' to learn more about interactive tables.';\n",
       "          element.innerHTML = '';\n",
       "          dataTable['output_type'] = 'display_data';\n",
       "          await google.colab.output.renderOutput(dataTable, element);\n",
       "          const docLink = document.createElement('div');\n",
       "          docLink.innerHTML = docLinkHtml;\n",
       "          element.appendChild(docLink);\n",
       "        }\n",
       "      </script>\n",
       "    </div>\n",
       "  </div>\n",
       "  "
      ],
      "text/plain": [
       "     stop_id                         stop_name   stop_short_name   stop_lat  \\\n",
       "0      15351           Sunbury Railway Station           Sunbury -37.579091   \n",
       "1      15353      Diggers Rest Railway Station      Diggers Rest -37.627017   \n",
       "2      19827       Stony Point Railway Station        Crib Point -38.374235   \n",
       "3      19828        Crib Point Railway Station        Crib Point -38.366123   \n",
       "4      19829          Morradoo Railway Station        Crib Point -38.354033   \n",
       "..       ...                               ...               ...        ...   \n",
       "213    44817          Coolaroo Railway Station          Coolaroo -37.661003   \n",
       "214    45793          Lynbrook Railway Station          Lynbrook -38.057341   \n",
       "215    45794     Cardinia Road Railway Station          Pakenham -38.071290   \n",
       "216    45795      South Morang Railway Station      South Morang -37.649159   \n",
       "217    46468  Williams Landing Railway Station  Williams Landing -37.869865   \n",
       "\n",
       "       stop_lon  \n",
       "0    144.727319  \n",
       "1    144.719922  \n",
       "2    145.221837  \n",
       "3    145.204043  \n",
       "4    145.189602  \n",
       "..          ...  \n",
       "213  144.926056  \n",
       "214  145.249275  \n",
       "215  145.437791  \n",
       "216  145.067032  \n",
       "217  144.747445  \n",
       "\n",
       "[218 rows x 5 columns]"
      ]
     },
     "execution_count": 259,
     "metadata": {},
     "output_type": "execute_result"
    }
   ],
   "source": [
    "file_train"
   ]
  },
  {
   "cell_type": "code",
   "execution_count": null,
   "metadata": {
    "colab": {
     "base_uri": "https://localhost:8080/"
    },
    "id": "sBVunWgu37AT",
    "outputId": "7fb38fc8-e03b-4d9e-93a5-55f0e39026a1"
   },
   "outputs": [
    {
     "name": "stderr",
     "output_type": "stream",
     "text": [
      "100%|██████████| 2110/2110 [00:26<00:00, 78.70it/s]\n"
     ]
    }
   ],
   "source": [
    "distance_train = [] # this value will store all closest distance from each suburb to closet train station\n",
    "# loop every index of dataframe df\n",
    "for index1 in tqdm(range(len(df.lng))):\n",
    "  dlist = [] # this value store all distance in 1 loop\n",
    "  # loop every index of stop train data\n",
    "  for index2 in range(len(file_train.stop_lat)):\n",
    "    # calculate the distance station from place to place\n",
    "    distance_station = distance(df.lat[index1], file_train['stop_lat'][index2], df.lng[index1], file_train['stop_lon'][index2])\n",
    "    dlist.append(distance_station)\n",
    "  # calculate closet train\n",
    "  closet_train = min(dlist)\n",
    "  distance_train.append(closet_train)\n",
    "  # get index\n",
    "  index = dlist.index(closet_train)\n",
    "  # distance closet train station is equal\n",
    "  df.closest_train_station_id[index1] = file_train.loc[[index]].stop_id\n",
    "\n",
    "df.distance_to_closest_train_station = distance_train"
   ]
  },
  {
   "cell_type": "markdown",
   "metadata": {
    "id": "6yMW5sSoRepR"
   },
   "source": [
    "# 10. Travel min MC"
   ]
  },
  {
   "cell_type": "code",
   "execution_count": null,
   "metadata": {
    "id": "0-dTKw39ReFC"
   },
   "outputs": [],
   "source": [
    "# read file\n",
    "stop_times = pd.read_csv(\"/content/drive/Shareddrives/FIT5196-s1-2022/A3/Vic_GTFS_data/metropolitan/stop_times.txt\", sep = ',')\n",
    "stop = pd.read_csv(\"/content/drive/Shareddrives/FIT5196-s1-2022/A3/Vic_GTFS_data/metropolitan/stops.txt\", sep = ',')\n",
    "trip = pd.read_csv(\"/content/drive/Shareddrives/FIT5196-s1-2022/A3/Vic_GTFS_data/metropolitan/trips.txt\", sep= \",\")\n",
    "calendar = pd.read_csv(\"/content/drive/Shareddrives/FIT5196-s1-2022/A3/Vic_GTFS_data/metropolitan/calendar.txt\", sep= \",\")"
   ]
  },
  {
   "cell_type": "code",
   "execution_count": null,
   "metadata": {
    "id": "5rpf98cSL045"
   },
   "outputs": [],
   "source": [
    "# merge file stop times and trip by trip__id\n",
    "stop_times = pd.merge(stop_times, trip, on = \"trip_id\")"
   ]
  },
  {
   "cell_type": "code",
   "execution_count": null,
   "metadata": {
    "id": "phE95k1ZCAwj"
   },
   "outputs": [],
   "source": [
    "# choose all day of week equal 1 or 1\n",
    "calendar = calendar[(calendar.monday == 1) |(calendar.tuesday == 1) | (calendar.wednesday == 1) | (calendar.thursday == 1) | (calendar.friday == 1) ]"
   ]
  },
  {
   "cell_type": "code",
   "execution_count": null,
   "metadata": {
    "id": "FxoPNqLHP3Fc"
   },
   "outputs": [],
   "source": [
    "# get service id from this calendar\n",
    "a = calendar.service_id.to_list()"
   ]
  },
  {
   "cell_type": "code",
   "execution_count": null,
   "metadata": {
    "id": "fTcpyY8MPvK9"
   },
   "outputs": [],
   "source": [
    "# we will choose times of each stop is in value a\n",
    "stop_times = stop_times[stop_times.service_id.isin(a)]"
   ]
  },
  {
   "cell_type": "code",
   "execution_count": null,
   "metadata": {
    "id": "mnIIw21ufnEw"
   },
   "outputs": [],
   "source": [
    "# process stop will filter stoptimes have arrival_time from 7 to 9 am\n",
    "pro_stop = stop_times[(stop_times.arrival_time >= \"07:00:00\") & (stop_times.arrival_time <= \"09:00:00\")].reset_index()"
   ]
  },
  {
   "cell_type": "code",
   "execution_count": null,
   "metadata": {
    "id": "Ufsu8vXd9Zhw"
   },
   "outputs": [],
   "source": [
    "trip_dict = {} # this value will store the list of object\n",
    "\n",
    "# loop every index in data process stop\n",
    "for i in range(len(pro_stop.trip_id)):\n",
    "  # check if trip id by index not in the dictionary\n",
    "  if pro_stop.trip_id[i] not in trip_dict:\n",
    "    # we key a new key id to store included information about arrival_time, departure time and stop_id\n",
    "    trip_dict[pro_stop.trip_id[i]] = [[pro_stop.arrival_time[i],pro_stop.departure_time[i], pro_stop.stop_id[i]]]\n",
    "  else:\n",
    "    # if not, The list append new value\n",
    "    trip_dict[pro_stop.trip_id[i]].append([pro_stop.arrival_time[i],pro_stop.departure_time[i], pro_stop.stop_id[i]])\n",
    "\n",
    "\n",
    ""
   ]
  },
  {
   "cell_type": "code",
   "execution_count": null,
   "metadata": {
    "id": "u2yHm2LgxJG_"
   },
   "outputs": [],
   "source": [
    "trip_dict_pro = {} # this value will store the list of list of value include all\n",
    "\n",
    "# loop every trip_dict\n",
    "for i in trip_dict:\n",
    "  count = 0\n",
    "  #loop evey trip_dict has position i\n",
    "  for j in trip_dict[i]:\n",
    "    count+=1\n",
    "    # we choose only Melbourne station in this case\n",
    "    if 19842 in j:\n",
    "      trip_dict_pro[i] = trip_dict[i][:count]\n",
    "      break\n"
   ]
  },
  {
   "cell_type": "code",
   "execution_count": null,
   "metadata": {
    "id": "8PVnHCcQEO7H"
   },
   "outputs": [],
   "source": [
    "# for i in trip_dict_pro:\n",
    "#   for j in trip_dict_pro[i]:\n",
    "#     if j[2] == 19842:\n",
    "#       if j[0] != j[1]:\n",
    "#         print(i)"
   ]
  },
  {
   "cell_type": "code",
   "execution_count": null,
   "metadata": {
    "id": "wdp_GddhW10B"
   },
   "outputs": [],
   "source": [
    "from datetime import datetime\n",
    "# fuction to calculate time\n",
    "def cal_time(start, end):\n",
    "  #@param: start: from when the train start, end: when the train end\n",
    "  start = datetime.strptime(start, \"%H:%M:%S\")\n",
    "\n",
    "  end = datetime.strptime(end, \"%H:%M:%S\")\n",
    "\n",
    "  duration = end - start\n",
    "\n",
    "  duration= int(duration.total_seconds() / 60)\n",
    "\n",
    "  return duration"
   ]
  },
  {
   "cell_type": "code",
   "execution_count": null,
   "metadata": {
    "colab": {
     "base_uri": "https://localhost:8080/"
    },
    "id": "j_yoGQBGwXGx",
    "outputId": "60fb289f-43dc-4850-a736-92a622657309"
   },
   "outputs": [
    {
     "name": "stderr",
     "output_type": "stream",
     "text": [
      "100%|██████████| 1255/1255 [00:00<00:00, 2059.66it/s]\n"
     ]
    }
   ],
   "source": [
    "dict_travel_min = {} # this dict store id and time min\n",
    "\n",
    "for i in tqdm(trip_dict_pro):\n",
    "  for j in trip_dict_pro[i]:\n",
    "\n",
    "      if j[2] not in dict_travel_min:\n",
    "        dict_travel_min[j[2]] = [cal_time(j[1], trip_dict_pro[i][-1][0])]\n",
    "      else:\n",
    "        dict_travel_min[j[2]].append(cal_time(j[1], trip_dict_pro[i][-1][0]))\n",
    "\n"
   ]
  },
  {
   "cell_type": "code",
   "execution_count": null,
   "metadata": {
    "id": "hZdWke7PVQp1"
   },
   "outputs": [],
   "source": [
    "# calculate and round mean of travel time\n",
    "for key in dict_travel_min:\n",
    "  dict_travel_min[key] = round(mean(dict_travel_min[key]))\n",
    "\n"
   ]
  },
  {
   "cell_type": "markdown",
   "metadata": {
    "id": "1VFNwfd4QS2f"
   },
   "source": [
    "## 11. Flag"
   ]
  },
  {
   "cell_type": "code",
   "execution_count": null,
   "metadata": {
    "id": "_vTVL6glk5sr"
   },
   "outputs": [],
   "source": [
    "for i in range(len(df.closest_train_station_id)):\n",
    "  if df.closest_train_station_id[i] in dict_travel_min:\n",
    "      df.travel_min_to_MC[i] = dict_travel_min[df.closest_train_station_id[i]]"
   ]
  },
  {
   "cell_type": "code",
   "execution_count": null,
   "metadata": {
    "id": "Kzo0c9qVlFUn"
   },
   "outputs": [],
   "source": [
    "for i in range(len(df.direct_journey_flag)):\n",
    "  if df.travel_min_to_MC[i] == -1:\n",
    "    # if min travel = -1 no have any time to calcualte\n",
    "    df.travel_min_to_MC[i] = \"not available\"\n",
    "    df.direct_journey_flag[i] = 0\n",
    "  else:\n",
    "    df.direct_journey_flag[i] = 1\n",
    ""
   ]
  },
  {
   "cell_type": "markdown",
   "metadata": {
    "id": "4KAFL9PPmP12"
   },
   "source": [
    "# 12. Data Crawling\n",
    "\n",
    "The library I used for this project is selenium, It is much stronger than beautiful soup, can crawl data even very high level tree of xml. And the step to do this will show below.\n",
    "In addition, my set up is for google colab and linux, if you try to run this on window, you need to download chrome webdriver in the same version with your current chrome.\n"
   ]
  },
  {
   "cell_type": "code",
   "execution_count": null,
   "metadata": {
    "colab": {
     "base_uri": "https://localhost:8080/"
    },
    "id": "jlJt_mc1faz3",
    "outputId": "8fee25c0-7ad7-4b25-cd0a-ef5e837cd747"
   },
   "outputs": [
    {
     "name": "stderr",
     "output_type": "stream",
     "text": [
      "100%|██████████| 166/166 [20:13<00:00,  7.31s/it]\n"
     ]
    }
   ],
   "source": [
    "# access webdriver\n",
    "driver = webdriver.Chrome(options=chrome_options)\n",
    "driver.get('https://www.yourinvestmentpropertymag.com.au/')\n",
    "\n",
    "# find input to enter value\n",
    "keyword = driver.find_element_by_xpath(\"/html/body/form/div[3]/div[3]/div[4]/div[2]/div[1]/div[2]/input[1]\")\n",
    "# enter value\n",
    "keyword.send_keys(df.suburb[0] + \", VIC\")\n",
    "\n",
    "# click the button to click a suggestion of suburb below\n",
    "time.sleep(1)\n",
    "click_page = driver.find_element_by_xpath('/html/body/ul/li/div')\n",
    "driver.execute_script(\"arguments[0].click();\", click_page)\n",
    "\n",
    "time.sleep(0.1)\n",
    "# click the button to navigate to suburb page\n",
    "search = driver.find_element_by_xpath(\"/html/body/form/div[3]/div[3]/div[4]/div[2]/div[1]/div[2]/input[2]\")\n",
    "driver.execute_script(\"arguments[0].click();\", search)\n",
    "\n",
    "suburb_report = {} # this value will store 5 element crawl\n",
    "for i in tqdm(df.suburb.unique()):\n",
    "  # use try to find a worst cases there is a suburb does not have in this page\n",
    "  try:\n",
    "    time.sleep(0.001)\n",
    "    # find input to enter value\n",
    "    keyword = driver.find_element_by_xpath(\"/html/body/form/div[3]/div[3]/div[4]/div[2]/div[3]/div/input[1]\")\n",
    "    # enter value\n",
    "    keyword.send_keys(i + \", VIC\")\n",
    "\n",
    "    # click the button to click a suggestion of suburb below\n",
    "    time.sleep(0.3)\n",
    "    click_page = driver.find_element_by_xpath(\"/html/body/ul[3]/li/div\")\n",
    "    driver.execute_script(\"arguments[0].click();\", click_page)\n",
    "\n",
    "    # click the button to navigate to suburb page\n",
    "    time.sleep(0.001)\n",
    "    search = driver.find_element_by_xpath(\"/html/body/form/div[3]/div[3]/div[4]/div[2]/div[3]/div/input[2]\")\n",
    "    driver.execute_script(\"arguments[0].click();\", search)\n",
    "\n",
    "\n",
    "    try: # using try to find the worst have N/A or Not available cases\n",
    "      # find tab has report house and click this post\n",
    "      time.sleep(0.001)\n",
    "      click_tab = driver.find_element_by_xpath(\"/html/body/form/div[3]/div[3]/div[4]/div[1]/div[2]/div[4]/ul/li[@id = 'ContentPlaceHolder1_ContentPlaceHolder1_tabHouseReport']\")\n",
    "      driver.execute_script(\"arguments[0].click();\", click_tab)\n",
    "\n",
    "      # get text\n",
    "      house_report = driver.find_element_by_xpath(\"/html/body/form/div[3]/div[3]/div[4]/div[1]/div[2]/div[4]/div[@id = 'ContentPlaceHolder1_ContentPlaceHolder1_contentHouse']\").text\n",
    "\n",
    "      median_house_price = driver.find_element_by_xpath(\"/html/body/form/div[3]/div[3]/div[4]/div[1]/div[2]/table/tbody/tr[2]/td[1]\").text\n",
    "\n",
    "      House_quarterly_growth = driver.find_element_by_xpath(\"/html/body/form/div[3]/div[3]/div[4]/div[1]/div[2]/table/tbody/tr[3]/td[1]\").text\n",
    "\n",
    "      House_twelve_month_growth = driver.find_element_by_xpath(\"/html/body/form/div[3]/div[3]/div[4]/div[1]/div[2]/table/tbody/tr[4]/td[1]\").text\n",
    "\n",
    "      House_average_annual_growth = driver.find_element_by_xpath(\"/html/body/form/div[3]/div[3]/div[4]/div[1]/div[2]/table/tbody/tr[5]/td[1]\").text\n",
    "    except: # except will do with another error data above\n",
    "      house_report = \"Not available\"\n",
    "\n",
    "      median_house_price = driver.find_element_by_xpath(\"/html/body/form/div[3]/div[3]/div[4]/div[1]/div[2]/table/tbody/tr[2]/td[1]\").text\n",
    "\n",
    "      House_quarterly_growth = driver.find_element_by_xpath(\"/html/body/form/div[3]/div[3]/div[4]/div[1]/div[2]/table/tbody/tr[3]/td[1]\").text\n",
    "\n",
    "      House_twelve_month_growth = driver.find_element_by_xpath(\"/html/body/form/div[3]/div[3]/div[4]/div[1]/div[2]/table/tbody/tr[4]/td[1]\").text\n",
    "\n",
    "      House_average_annual_growth = driver.find_element_by_xpath(\"/html/body/form/div[3]/div[3]/div[4]/div[1]/div[2]/table/tbody/tr[5]/td[1]\").text\n",
    "    # add all data to a dictionary\n",
    "    suburb_report[i] = [house_report,median_house_price,House_quarterly_growth,House_twelve_month_growth,House_average_annual_growth]\n",
    "\n",
    "  except:\n",
    "    print(df.suburb[i])"
   ]
  },
  {
   "cell_type": "code",
   "execution_count": null,
   "metadata": {
    "id": "W8sBk2kWAAoa"
   },
   "outputs": [],
   "source": [
    "for i in range(len(df.suburb)):\n",
    "  # push element to dict\n",
    "  df.House_report[i] = suburb_report[df.suburb[i]][0]\n",
    "  df.Median_house_price[i] = suburb_report[df.suburb[i]][1]\n",
    "  df.House_quarterly_growth[i] = suburb_report[df.suburb[i]][2]\n",
    "  df.House_twelve_month_growth[i] = suburb_report[df.suburb[i]][3]\n",
    "  df.House_average_annual_growth[i] = suburb_report[df.suburb[i]][4]\n",
    "  # remove line break\n",
    "  df.House_report[i] = df.House_report[i].replace(\"\\n\", \" \")"
   ]
  },
  {
   "cell_type": "markdown",
   "metadata": {
    "id": "5tWT6UcdI81Z"
   },
   "source": [
    "remove line break in House report"
   ]
  },
  {
   "cell_type": "code",
   "execution_count": null,
   "metadata": {
    "id": "cw3Y-8cbdtSu"
   },
   "outputs": [],
   "source": [
    "# drop index value\n",
    "df.drop(columns=df.columns[0],\n",
    "        axis=1,\n",
    "        inplace=True)"
   ]
  },
  {
   "cell_type": "code",
   "execution_count": null,
   "metadata": {
    "id": "ruBBr7bCARmW"
   },
   "outputs": [],
   "source": [
    "# save file\n",
    "df.to_csv(\"32134827_A3_solution.csv\", index = False)"
   ]
  },
  {
   "cell_type": "markdown",
   "metadata": {
    "id": "EIajB6YfnNQk"
   },
   "source": [
    "# Task B: Data reshaping and Normalization"
   ]
  },
  {
   "cell_type": "code",
   "execution_count": null,
   "metadata": {
    "id": "O5m4x2lCdgI2"
   },
   "outputs": [],
   "source": [
    "data = pd.read_csv(\"32134827_A3_solution.csv\")"
   ]
  },
  {
   "cell_type": "code",
   "execution_count": null,
   "metadata": {
    "id": "X6WeTnl7nUV9"
   },
   "outputs": [],
   "source": [
    "df = data[[\"Median_house_price\",\"House_quarterly_growth\",\"House_twelve_month_growth\", \"House_average_annual_growth\"]]"
   ]
  },
  {
   "cell_type": "code",
   "execution_count": null,
   "metadata": {
    "id": "Ib6a2FSWui3d"
   },
   "outputs": [],
   "source": [
    "df = df.dropna().reset_index().drop([\"index\"], axis =1)"
   ]
  },
  {
   "cell_type": "markdown",
   "metadata": {
    "id": "j818xg4gouEL"
   },
   "source": [
    "## 1. Data standardization and Normalization"
   ]
  },
  {
   "cell_type": "markdown",
   "metadata": {
    "id": "0d2YbsomppEX"
   },
   "source": [
    "I use this regex `[^\\d.]` to remove everything except number and dot"
   ]
  },
  {
   "cell_type": "code",
   "execution_count": null,
   "metadata": {
    "id": "abVFHoGrodd4"
   },
   "outputs": [],
   "source": [
    "# convert to string\n",
    "def number_convert(num):\n",
    "    try:\n",
    "        value = re.sub(r'[^\\d.]', '', num)\n",
    "    except:\n",
    "        value = re.sub(r'[^\\d.]', '', num)\n",
    "    return value"
   ]
  },
  {
   "cell_type": "code",
   "execution_count": null,
   "metadata": {
    "id": "roKpymwSuvO-"
   },
   "outputs": [],
   "source": [
    "for index in range(df.shape[0]):\n",
    "    # use number_convert to take all numeric string\n",
    "    df.Median_house_price[index] = number_convert(df.Median_house_price[index])\n",
    "    df.House_quarterly_growth[index] = number_convert(df.House_quarterly_growth[index])\n",
    "    df.House_twelve_month_growth[index] = number_convert(df.House_twelve_month_growth[index])\n",
    "    df.House_average_annual_growth[index] = number_convert(df.House_average_annual_growth[index])"
   ]
  },
  {
   "cell_type": "code",
   "execution_count": null,
   "metadata": {
    "id": "DCL-ZUMOp4Qd"
   },
   "outputs": [],
   "source": [
    "# we use pd.to_numeric to convert string to numerical data.\n",
    "df.Median_house_price = pd.to_numeric(df.Median_house_price)\n",
    "df.House_quarterly_growth = pd.to_numeric(df.House_quarterly_growth)\n",
    "df.House_twelve_month_growth = pd.to_numeric(df.House_twelve_month_growth)\n",
    "df.House_average_annual_growth = pd.to_numeric(df.House_average_annual_growth)"
   ]
  },
  {
   "cell_type": "code",
   "execution_count": null,
   "metadata": {
    "colab": {
     "base_uri": "https://localhost:8080/"
    },
    "id": "V9xZ6cqSuPQ9",
    "outputId": "f2c0ca75-4037-43e4-f929-09accb6778e2"
   },
   "outputs": [
    {
     "data": {
      "text/plain": [
       "array([[0.2139607 , 0.92887029, 0.        , 0.02122684],\n",
       "       [0.2139607 , 0.92887029, 0.        , 0.02122684],\n",
       "       [0.20837642, 0.30962343, 0.42745647, 0.15938118],\n",
       "       [0.14270941, 0.82426778, 1.        , 0.16603706],\n",
       "       [0.41571872, 0.06066946, 0.44006404, 0.17916892]])"
      ]
     },
     "execution_count": 301,
     "metadata": {},
     "output_type": "execute_result"
    }
   ],
   "source": [
    "# calculate standard scale\n",
    "std_scale = preprocessing.StandardScaler().fit(df[['Median_house_price', 'House_quarterly_growth',\"House_twelve_month_growth\",\"House_average_annual_growth\"]])\n",
    "df_std = std_scale.transform(df[['Median_house_price', 'House_quarterly_growth',\"House_twelve_month_growth\",\"House_average_annual_growth\"]]) # an array not a df\n",
    "df_std[0:5]\n",
    "\n",
    "# calculate norm scale\n",
    "minmax_scale = preprocessing.MinMaxScaler().fit(df[['Median_house_price', 'House_quarterly_growth',\"House_twelve_month_growth\",\"House_average_annual_growth\"]])\n",
    "df_minmax = minmax_scale.transform(df[['Median_house_price', 'House_quarterly_growth',\"House_twelve_month_growth\",\"House_average_annual_growth\"]])\n",
    "df_minmax[0:5]"
   ]
  },
  {
   "cell_type": "code",
   "execution_count": null,
   "metadata": {
    "id": "_LG3Sj-txkuh"
   },
   "outputs": [],
   "source": [
    "df[\"Median_house_price_scale\"] = df_std[:,0]\n",
    "df[\"House_quarterly_growth_scale\"] = df_std[:,1]\n",
    "df[\"House_twelve_month_growth_scale\"] = df_std[:,2]\n",
    "df[\"House_average_annual_growth_scale\"] = df_std[:,3]\n",
    "\n",
    "df[\"Median_house_price_norm\"] = df_minmax[:,0]\n",
    "df[\"House_quarterly_growth_norm\"] = df_minmax[:,1]\n",
    "df[\"House_twelve_month_growth_norm\"] = df_minmax[:,2]\n",
    "df[\"House_average_annual_growth_norm\"] = df_minmax[:,3]"
   ]
  },
  {
   "cell_type": "markdown",
   "metadata": {
    "id": "DXOm4kCMvDGg"
   },
   "source": [
    "before scale:\n"
   ]
  },
  {
   "cell_type": "code",
   "execution_count": null,
   "metadata": {
    "colab": {
     "base_uri": "https://localhost:8080/",
     "height": 276
    },
    "id": "W33yeFTx1WUD",
    "outputId": "114fdf1a-d2f9-48f1-bafe-d42eceb27940"
   },
   "outputs": [
    {
     "data": {
      "image/png": "[encoded data removed]",
      "text/plain": [
       "<Figure size 432x288 with 1 Axes>"
      ]
     },
     "metadata": {
      "needs_background": "light"
     },
     "output_type": "display_data"
    }
   ],
   "source": [
    "for i in df.columns[0:4]:\n",
    "    df[i].plot()\n"
   ]
  },
  {
   "cell_type": "code",
   "execution_count": null,
   "metadata": {
    "colab": {
     "base_uri": "https://localhost:8080/",
     "height": 265
    },
    "id": "ZuvfMI5k10ud",
    "outputId": "c74480f2-60c3-446c-fac6-94479e1c7f6e"
   },
   "outputs": [
    {
     "data": {
      "image/png": "[encoded data removed]",
      "text/plain": [
       "<Figure size 432x288 with 1 Axes>"
      ]
     },
     "metadata": {
      "needs_background": "light"
     },
     "output_type": "display_data"
    }
   ],
   "source": [
    "# plot show the Z-score\n",
    "for i in df.columns[4:]:\n",
    "    df[i].plot()"
   ]
  },
  {
   "cell_type": "code",
   "execution_count": null,
   "metadata": {
    "colab": {
     "base_uri": "https://localhost:8080/",
     "height": 265
    },
    "id": "cUyKh4sk2jLZ",
    "outputId": "dbf67fa7-127b-44e2-ee51-8abe13d946fb"
   },
   "outputs": [
    {
     "data": {
      "image/png": "[encoded data removed]",
      "text/plain": [
       "<Figure size 432x288 with 1 Axes>"
      ]
     },
     "metadata": {
      "needs_background": "light"
     },
     "output_type": "display_data"
    }
   ],
   "source": [
    "# plot show the min- max\n",
    "for i in df.columns[8:]:\n",
    "    df[i].plot()"
   ]
  },
  {
   "cell_type": "markdown",
   "metadata": {
    "id": "Y2EJ5cQSvTu1"
   },
   "source": [
    "When we check before graph and after, it seem that standardlization have greate visualization rather than"
   ]
  },
  {
   "cell_type": "code",
   "execution_count": null,
   "metadata": {
    "colab": {
     "base_uri": "https://localhost:8080/",
     "height": 443
    },
    "id": "yBBnHDZ0vULK",
    "outputId": "4098132e-7a7c-4d7d-c3f6-0e2ebea4b986"
   },
   "outputs": [
    {
     "data": {
      "image/png": "[encoded data removed]",
      "text/plain": [
       "<Figure size 720x576 with 1 Axes>"
      ]
     },
     "metadata": {
      "needs_background": "light"
     },
     "output_type": "display_data"
    }
   ],
   "source": [
    "# and plot\n",
    "\n",
    "def plot():\n",
    "    f = plt.figure(figsize=(10,8))\n",
    "\n",
    "    plt.scatter(df['Median_house_price'], df['House_quarterly_growth'],\n",
    "            color='green', label='input scale', alpha=0.5)\n",
    "\n",
    " #   plt.scatter(df_std[:,0], df_std[:,1], color='red',\n",
    " #           label='Standardized [$$N  (\\mu=0, \\; \\sigma=1)$$]', alpha=0.3)\n",
    "    plt.scatter(df_std[:,1], df_std[:,2], color='red',\n",
    "             label='Standardized u=0, s=1', alpha=0.3) # can't print: μ = 0, σ = 0\n",
    "\n",
    "    plt.scatter(df_minmax[:,1], df_minmax[:,2],\n",
    "            color='blue', label='min-max scaled [min=0, max=1]', alpha=0.3)\n",
    "\n",
    "    plt.title('House_quarterly_growth and House_quarterly_growth content of dataset')\n",
    "    plt.xlabel('Median_house_price')\n",
    "    plt.ylabel('House_quarterly_growth')\n",
    "    plt.legend(loc='upper left')\n",
    "    plt.grid()\n",
    "    plt.tight_layout()\n",
    "    #f.savefig(\"z_min_max.pdf\", bbox_inches='tight')\n",
    "\n",
    "plot()\n",
    "plt.show()"
   ]
  },
  {
   "cell_type": "markdown",
   "metadata": {
    "id": "C2sT0S1dveKu"
   },
   "source": [
    "After we check with two variables, original data have a bit outlier, which means this is very sensitive for normalization, therefore, in this case, I will choose Z-score is better for scaler."
   ]
  },
  {
   "cell_type": "markdown",
   "metadata": {
    "id": "tK_yF5brv_Rh"
   },
   "source": [
    "## 2. Data transformation"
   ]
  },
  {
   "cell_type": "markdown",
   "metadata": {
    "id": "M7EeDHAuwIGz"
   },
   "source": [
    "Before, I check by 2 value with a prector and a variable"
   ]
  },
  {
   "cell_type": "code",
   "execution_count": null,
   "metadata": {
    "colab": {
     "base_uri": "https://localhost:8080/",
     "height": 295
    },
    "id": "ZAEs-OyvwCnH",
    "outputId": "4f09ca7a-1d6d-4f3d-8f9a-02c817fe1e1f"
   },
   "outputs": [
    {
     "data": {
      "text/plain": [
       "<matplotlib.collections.PathCollection at 0x7fb43abfa5d0>"
      ]
     },
     "execution_count": 308,
     "metadata": {},
     "output_type": "execute_result"
    },
    {
     "data": {
      "image/png": "[encoded data removed]",
      "text/plain": [
       "<Figure size 432x288 with 1 Axes>"
      ]
     },
     "metadata": {
      "needs_background": "light"
     },
     "output_type": "display_data"
    }
   ],
   "source": [
    "plt.scatter(df[\"Median_house_price\"], df[\"House_quarterly_growth\"]) # before"
   ]
  },
  {
   "cell_type": "markdown",
   "metadata": {
    "id": "6BH0q5ULwS5N"
   },
   "source": [
    "### 2.1. Root transformation"
   ]
  },
  {
   "cell_type": "code",
   "execution_count": null,
   "metadata": {
    "id": "jwXWsup8wHH_"
   },
   "outputs": [],
   "source": [
    "df['House_quarterly_growthr'] = None\n",
    "i = 0\n",
    "for row in df.iterrows():\n",
    "    df['House_quarterly_growthr'].at[i] = math.sqrt(df[\"House_quarterly_growth\"][i])\n",
    "    i += 1\n",
    "\n"
   ]
  },
  {
   "cell_type": "code",
   "execution_count": null,
   "metadata": {
    "id": "SJVjvDBtwbqE"
   },
   "outputs": [],
   "source": [
    "df['Median_house_pricer'] = None\n",
    "i = 0\n",
    "for row in df.iterrows():\n",
    "    df['Median_house_pricer'].at[i] = math.sqrt(df[\"Median_house_price\"][i])\n",
    "    i += 1"
   ]
  },
  {
   "cell_type": "code",
   "execution_count": null,
   "metadata": {
    "colab": {
     "base_uri": "https://localhost:8080/",
     "height": 270
    },
    "id": "eve2Z5u-w1GF",
    "outputId": "fb9d350e-4c67-42a3-8a65-d8d6e45f6936"
   },
   "outputs": [
    {
     "data": {
      "text/html": [
       "\n",
       "  <div id=\"df-755d95f8-7b97-41a9-a55f-38ebbee81e4f\">\n",
       "    <div class=\"colab-df-container\">\n",
       "      <div>\n",
       "<style scoped>\n",
       "    .dataframe tbody tr th:only-of-type {\n",
       "        vertical-align: middle;\n",
       "    }\n",
       "\n",
       "    .dataframe tbody tr th {\n",
       "        vertical-align: top;\n",
       "    }\n",
       "\n",
       "    .dataframe thead th {\n",
       "        text-align: right;\n",
       "    }\n",
       "</style>\n",
       "<table border=\"1\" class=\"dataframe\">\n",
       "  <thead>\n",
       "    <tr style=\"text-align: right;\">\n",
       "      <th></th>\n",
       "      <th>Median_house_price</th>\n",
       "      <th>House_quarterly_growth</th>\n",
       "      <th>House_twelve_month_growth</th>\n",
       "      <th>House_average_annual_growth</th>\n",
       "      <th>Median_house_price_scale</th>\n",
       "      <th>House_quarterly_growth_scale</th>\n",
       "      <th>House_twelve_month_growth_scale</th>\n",
       "      <th>House_average_annual_growth_scale</th>\n",
       "      <th>Median_house_price_norm</th>\n",
       "      <th>House_quarterly_growth_norm</th>\n",
       "      <th>House_twelve_month_growth_norm</th>\n",
       "      <th>House_average_annual_growth_norm</th>\n",
       "      <th>House_quarterly_growthr</th>\n",
       "      <th>Median_house_pricer</th>\n",
       "      <th>House_twelve_month_growthr</th>\n",
       "    </tr>\n",
       "  </thead>\n",
       "  <tbody>\n",
       "    <tr>\n",
       "      <th>0</th>\n",
       "      <td>1524500</td>\n",
       "      <td>14.14</td>\n",
       "      <td>0.00</td>\n",
       "      <td>1.18</td>\n",
       "      <td>0.341570</td>\n",
       "      <td>1.846375</td>\n",
       "      <td>-1.942631</td>\n",
       "      <td>-0.870971</td>\n",
       "      <td>0.213961</td>\n",
       "      <td>0.928870</td>\n",
       "      <td>0.000000</td>\n",
       "      <td>0.021227</td>\n",
       "      <td>3.760319</td>\n",
       "      <td>1234.706443</td>\n",
       "      <td>None</td>\n",
       "    </tr>\n",
       "    <tr>\n",
       "      <th>1</th>\n",
       "      <td>1524500</td>\n",
       "      <td>14.14</td>\n",
       "      <td>0.00</td>\n",
       "      <td>1.18</td>\n",
       "      <td>0.341570</td>\n",
       "      <td>1.846375</td>\n",
       "      <td>-1.942631</td>\n",
       "      <td>-0.870971</td>\n",
       "      <td>0.213961</td>\n",
       "      <td>0.928870</td>\n",
       "      <td>0.000000</td>\n",
       "      <td>0.021227</td>\n",
       "      <td>3.760319</td>\n",
       "      <td>1234.706443</td>\n",
       "      <td>None</td>\n",
       "    </tr>\n",
       "    <tr>\n",
       "      <th>2</th>\n",
       "      <td>1497500</td>\n",
       "      <td>11.18</td>\n",
       "      <td>21.36</td>\n",
       "      <td>8.86</td>\n",
       "      <td>0.300252</td>\n",
       "      <td>-0.263640</td>\n",
       "      <td>-0.083776</td>\n",
       "      <td>0.058977</td>\n",
       "      <td>0.208376</td>\n",
       "      <td>0.309623</td>\n",
       "      <td>0.427456</td>\n",
       "      <td>0.159381</td>\n",
       "      <td>3.343651</td>\n",
       "      <td>1223.723825</td>\n",
       "      <td>None</td>\n",
       "    </tr>\n",
       "    <tr>\n",
       "      <th>3</th>\n",
       "      <td>1180000</td>\n",
       "      <td>13.64</td>\n",
       "      <td>49.97</td>\n",
       "      <td>9.23</td>\n",
       "      <td>-0.185612</td>\n",
       "      <td>1.489954</td>\n",
       "      <td>2.406011</td>\n",
       "      <td>0.103779</td>\n",
       "      <td>0.142709</td>\n",
       "      <td>0.824268</td>\n",
       "      <td>1.000000</td>\n",
       "      <td>0.166037</td>\n",
       "      <td>3.693237</td>\n",
       "      <td>1086.278049</td>\n",
       "      <td>None</td>\n",
       "    </tr>\n",
       "    <tr>\n",
       "      <th>4</th>\n",
       "      <td>2500000</td>\n",
       "      <td>9.99</td>\n",
       "      <td>21.99</td>\n",
       "      <td>9.96</td>\n",
       "      <td>1.834358</td>\n",
       "      <td>-1.111924</td>\n",
       "      <td>-0.028950</td>\n",
       "      <td>0.192173</td>\n",
       "      <td>0.415719</td>\n",
       "      <td>0.060669</td>\n",
       "      <td>0.440064</td>\n",
       "      <td>0.179169</td>\n",
       "      <td>3.160696</td>\n",
       "      <td>1581.13883</td>\n",
       "      <td>None</td>\n",
       "    </tr>\n",
       "  </tbody>\n",
       "</table>\n",
       "</div>\n",
       "      <button class=\"colab-df-convert\" onclick=\"convertToInteractive('df-755d95f8-7b97-41a9-a55f-38ebbee81e4f')\"\n",
       "              title=\"Convert this dataframe to an interactive table.\"\n",
       "              style=\"display:none;\">\n",
       "        \n",
       "  <svg xmlns=\"http://www.w3.org/2000/svg\" height=\"24px\"viewBox=\"0 0 24 24\"\n",
       "       width=\"24px\">\n",
       "    <path d=\"M0 0h24v24H0V0z\" fill=\"none\"/>\n",
       "    <path d=\"M18.56 5.44l.94 2.06.94-2.06 2.06-.94-2.06-.94-.94-2.06-.94 2.06-2.06.94zm-11 1L8.5 8.5l.94-2.06 2.06-.94-2.06-.94L8.5 2.5l-.94 2.06-2.06.94zm10 10l.94 2.06.94-2.06 2.06-.94-2.06-.94-.94-2.06-.94 2.06-2.06.94z\"/><path d=\"M17.41 7.96l-1.37-1.37c-.4-.4-.92-.59-1.43-.59-.52 0-1.04.2-1.43.59L10.3 9.45l-7.72 7.72c-.78.78-.78 2.05 0 2.83L4 21.41c.39.39.9.59 1.41.59.51 0 1.02-.2 1.41-.59l7.78-7.78 2.81-2.81c.8-.78.8-2.07 0-2.86zM5.41 20L4 18.59l7.72-7.72 1.47 1.35L5.41 20z\"/>\n",
       "  </svg>\n",
       "      </button>\n",
       "      \n",
       "  <style>\n",
       "    .colab-df-container {\n",
       "      display:flex;\n",
       "      flex-wrap:wrap;\n",
       "      gap: 12px;\n",
       "    }\n",
       "\n",
       "    .colab-df-convert {\n",
       "      background-color: #E8F0FE;\n",
       "      border: none;\n",
       "      border-radius: 50%;\n",
       "      cursor: pointer;\n",
       "      display: none;\n",
       "      fill: #1967D2;\n",
       "      height: 32px;\n",
       "      padding: 0 0 0 0;\n",
       "      width: 32px;\n",
       "    }\n",
       "\n",
       "    .colab-df-convert:hover {\n",
       "      background-color: #E2EBFA;\n",
       "      box-shadow: 0px 1px 2px rgba(60, 64, 67, 0.3), 0px 1px 3px 1px rgba(60, 64, 67, 0.15);\n",
       "      fill: #174EA6;\n",
       "    }\n",
       "\n",
       "    [theme=dark] .colab-df-convert {\n",
       "      background-color: #3B4455;\n",
       "      fill: #D2E3FC;\n",
       "    }\n",
       "\n",
       "    [theme=dark] .colab-df-convert:hover {\n",
       "      background-color: #434B5C;\n",
       "      box-shadow: 0px 1px 3px 1px rgba(0, 0, 0, 0.15);\n",
       "      filter: drop-shadow(0px 1px 2px rgba(0, 0, 0, 0.3));\n",
       "      fill: #FFFFFF;\n",
       "    }\n",
       "  </style>\n",
       "\n",
       "      <script>\n",
       "        const buttonEl =\n",
       "          document.querySelector('#df-755d95f8-7b97-41a9-a55f-38ebbee81e4f button.colab-df-convert');\n",
       "        buttonEl.style.display =\n",
       "          google.colab.kernel.accessAllowed ? 'block' : 'none';\n",
       "\n",
       "        async function convertToInteractive(key) {\n",
       "          const element = document.querySelector('#df-755d95f8-7b97-41a9-a55f-38ebbee81e4f');\n",
       "          const dataTable =\n",
       "            await google.colab.kernel.invokeFunction('convertToInteractive',\n",
       "                                                     [key], {});\n",
       "          if (!dataTable) return;\n",
       "\n",
       "          const docLinkHtml = 'Like what you see? Visit the ' +\n",
       "            '<a target=\"_blank\" href=https://colab.research.google.com/notebooks/data_table.ipynb>data table notebook</a>'\n",
       "            + ' to learn more about interactive tables.';\n",
       "          element.innerHTML = '';\n",
       "          dataTable['output_type'] = 'display_data';\n",
       "          await google.colab.output.renderOutput(dataTable, element);\n",
       "          const docLink = document.createElement('div');\n",
       "          docLink.innerHTML = docLinkHtml;\n",
       "          element.appendChild(docLink);\n",
       "        }\n",
       "      </script>\n",
       "    </div>\n",
       "  </div>\n",
       "  "
      ],
      "text/plain": [
       "   Median_house_price  House_quarterly_growth  House_twelve_month_growth  \\\n",
       "0             1524500                   14.14                       0.00   \n",
       "1             1524500                   14.14                       0.00   \n",
       "2             1497500                   11.18                      21.36   \n",
       "3             1180000                   13.64                      49.97   \n",
       "4             2500000                    9.99                      21.99   \n",
       "\n",
       "   House_average_annual_growth  Median_house_price_scale  \\\n",
       "0                         1.18                  0.341570   \n",
       "1                         1.18                  0.341570   \n",
       "2                         8.86                  0.300252   \n",
       "3                         9.23                 -0.185612   \n",
       "4                         9.96                  1.834358   \n",
       "\n",
       "   House_quarterly_growth_scale  House_twelve_month_growth_scale  \\\n",
       "0                      1.846375                        -1.942631   \n",
       "1                      1.846375                        -1.942631   \n",
       "2                     -0.263640                        -0.083776   \n",
       "3                      1.489954                         2.406011   \n",
       "4                     -1.111924                        -0.028950   \n",
       "\n",
       "   House_average_annual_growth_scale  Median_house_price_norm  \\\n",
       "0                          -0.870971                 0.213961   \n",
       "1                          -0.870971                 0.213961   \n",
       "2                           0.058977                 0.208376   \n",
       "3                           0.103779                 0.142709   \n",
       "4                           0.192173                 0.415719   \n",
       "\n",
       "   House_quarterly_growth_norm  House_twelve_month_growth_norm  \\\n",
       "0                     0.928870                        0.000000   \n",
       "1                     0.928870                        0.000000   \n",
       "2                     0.309623                        0.427456   \n",
       "3                     0.824268                        1.000000   \n",
       "4                     0.060669                        0.440064   \n",
       "\n",
       "   House_average_annual_growth_norm House_quarterly_growthr  \\\n",
       "0                          0.021227                3.760319   \n",
       "1                          0.021227                3.760319   \n",
       "2                          0.159381                3.343651   \n",
       "3                          0.166037                3.693237   \n",
       "4                          0.179169                3.160696   \n",
       "\n",
       "  Median_house_pricer House_twelve_month_growthr  \n",
       "0         1234.706443                       None  \n",
       "1         1234.706443                       None  \n",
       "2         1223.723825                       None  \n",
       "3         1086.278049                       None  \n",
       "4          1581.13883                       None  "
      ]
     },
     "execution_count": 314,
     "metadata": {},
     "output_type": "execute_result"
    }
   ],
   "source": [
    "df.head()"
   ]
  },
  {
   "cell_type": "code",
   "execution_count": null,
   "metadata": {
    "colab": {
     "base_uri": "https://localhost:8080/",
     "height": 282
    },
    "id": "n7vEbLWgw2zz",
    "outputId": "e369f488-cfb3-4cff-d540-949c678cddec"
   },
   "outputs": [
    {
     "data": {
      "text/plain": [
       "<matplotlib.collections.PathCollection at 0x7fb45b1bf590>"
      ]
     },
     "execution_count": 316,
     "metadata": {},
     "output_type": "execute_result"
    },
    {
     "data": {
      "image/png": "[encoded data removed]",
      "text/plain": [
       "<Figure size 432x288 with 1 Axes>"
      ]
     },
     "metadata": {
      "needs_background": "light"
     },
     "output_type": "display_data"
    }
   ],
   "source": [
    "plt.scatter(df[\"Median_house_pricer\"], df[\"House_quarterly_growthr\"])"
   ]
  },
  {
   "cell_type": "markdown",
   "metadata": {
    "id": "r9hRlvJ7xWaw"
   },
   "source": [
    "## 3.2. Square power transformation"
   ]
  },
  {
   "cell_type": "code",
   "execution_count": null,
   "metadata": {
    "id": "6Kh1nxk6xCBs"
   },
   "outputs": [],
   "source": [
    "import math\n",
    "df['Median_house_pricerq'] = None\n",
    "i = 0\n",
    "for row in df.iterrows():\n",
    "    df['Median_house_pricerq'].at[i] = math.pow(df[\"Median_house_price\"][i],2)\n",
    "    i += 1\n",
    "\n",
    "\n",
    "import math\n",
    "df['House_quarterly_growthrq'] = None\n",
    "i = 0\n",
    "for row in df.iterrows():\n",
    "    df['House_quarterly_growthrq'].at[i] = math.pow(df[\"House_quarterly_growth\"][i],2)\n",
    "    i += 1"
   ]
  },
  {
   "cell_type": "code",
   "execution_count": null,
   "metadata": {
    "colab": {
     "base_uri": "https://localhost:8080/",
     "height": 295
    },
    "id": "umi4gt1uxY73",
    "outputId": "8d37b988-81f3-46b4-bb56-7f975310f730"
   },
   "outputs": [
    {
     "data": {
      "text/plain": [
       "<matplotlib.collections.PathCollection at 0x7fb4600964d0>"
      ]
     },
     "execution_count": 318,
     "metadata": {},
     "output_type": "execute_result"
    },
    {
     "data": {
      "image/png": "[encoded data removed]",
      "text/plain": [
       "<Figure size 432x288 with 1 Axes>"
      ]
     },
     "metadata": {
      "needs_background": "light"
     },
     "output_type": "display_data"
    }
   ],
   "source": [
    "plt.scatter(df.Median_house_pricerq, df.House_quarterly_growthrq)"
   ]
  },
  {
   "cell_type": "markdown",
   "metadata": {
    "id": "VikIlFNexecf"
   },
   "source": [
    "## 3.2 Log Transformation"
   ]
  },
  {
   "cell_type": "code",
   "execution_count": null,
   "metadata": {
    "id": "ktUkTtCBxber"
   },
   "outputs": [],
   "source": [
    "import math\n",
    "df['Median_house_pricerl'] = None\n",
    "i = 0\n",
    "for row in df.iterrows():\n",
    "    df['Median_house_pricerl'].at[i] = math.log(df[\"Median_house_price\"][i])\n",
    "    i += 1\n",
    "\n",
    "\n",
    "df.head()\n",
    "\n",
    "\n",
    "df['House_quarterly_growthrl'] = None\n",
    "i = 0\n",
    "for row in df.iterrows():\n",
    "    df['House_quarterly_growthrl'].at[i] = math.log(df[\"House_quarterly_growth\"][i])\n",
    "    i += 1"
   ]
  },
  {
   "cell_type": "code",
   "execution_count": null,
   "metadata": {
    "colab": {
     "base_uri": "https://localhost:8080/",
     "height": 282
    },
    "id": "AMo7YIDuxfiN",
    "outputId": "e98d3d4f-bf6a-4a40-f3a6-0b9a20f99188"
   },
   "outputs": [
    {
     "data": {
      "text/plain": [
       "<matplotlib.collections.PathCollection at 0x7fb45ecde810>"
      ]
     },
     "execution_count": 320,
     "metadata": {},
     "output_type": "execute_result"
    },
    {
     "data": {
      "image/png": "[encoded data removed]",
      "text/plain": [
       "<Figure size 432x288 with 1 Axes>"
      ]
     },
     "metadata": {
      "needs_background": "light"
     },
     "output_type": "display_data"
    }
   ],
   "source": [
    "plt.scatter(df.Median_house_pricerl, df.House_quarterly_growthrl)"
   ]
  },
  {
   "cell_type": "markdown",
   "metadata": {
    "id": "t6B32so1yXEH"
   },
   "source": [
    "After seeing the picture model, I think root transformation is very similar with original data and shift a bit, therefore, I choose root transformation"
   ]
  },
  {
   "cell_type": "markdown",
   "metadata": {
    "id": "NAwASwhlz9p3"
   },
   "source": [
    "# SUMMARY"
   ]
  },
  {
   "cell_type": "markdown",
   "metadata": {
    "id": "FeNEjD56zLmz"
   },
   "source": [
    "This assessment measured the understanding of How to combining and integrating data from many source. By attend this project, I understand how to work with shapefile data, how to deal with Standardization and Normalization or even transformation\n",
    "6\n"
   ]
  },
  {
   "cell_type": "markdown",
   "metadata": {
    "id": "Frr2NMZp0ApQ"
   },
   "source": [
    "#REFERENCES\n",
    "$[1]$ Pandas.pydata.org. 2022. pandas - Python Data Analysis Library. [online] Available at: <https://pandas.pydata.org/> [Accessed 8 June 2022].\n",
    "\n",
    "$[2]$ En.wikipedia.org. 2022. Feature scaling - Wikipedia. [online] Available at: <https://en.wikipedia.org/wiki/Feature_scaling> [Accessed 8 June 2022].\n",
    "\n",
    "\n"
   ]
  },
  {
   "cell_type": "code",
   "execution_count": null,
   "metadata": {
    "id": "Nc5FDLq91PXo"
   },
   "outputs": [],
   "source": []
  }
 ],
 "metadata": {
  "colab": {
   "provenance": []
  },
  "kernelspec": {
   "display_name": "Python 3",
   "name": "python3"
  },
  "language_info": {
   "name": "python"
  }
 },
 "nbformat": 4,
 "nbformat_minor": 0
}
